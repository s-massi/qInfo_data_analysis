{
 "cells": [
  {
   "cell_type": "markdown",
   "metadata": {},
   "source": [
    "# Theory stuff"
   ]
  },
  {
   "cell_type": "markdown",
   "metadata": {},
   "source": [
    "## Import things"
   ]
  },
  {
   "cell_type": "code",
   "execution_count": 1,
   "metadata": {},
   "outputs": [],
   "source": [
    "import numpy as np\n",
    "import scipy as sp\n",
    "from scipy import linalg\n",
    "from numpy import linalg,random\n",
    "import matplotlib.pyplot as plt\n",
    "from matplotlib import cm,ticker,colors,rc,font_manager\n",
    "%matplotlib inline"
   ]
  },
  {
   "cell_type": "markdown",
   "metadata": {},
   "source": [
    "## Quantum Information Definitions\n",
    "Let's start by defining some functions for the most important operators/states"
   ]
  },
  {
   "cell_type": "code",
   "execution_count": 2,
   "metadata": {},
   "outputs": [],
   "source": [
    "#convert deg to rad\n",
    "def theta(x):\n",
    "    return x*np.pi/180\n",
    "\n",
    "# Lambda-Half wave plate\n",
    "def HWP(x):\n",
    "    return np.array([[np.cos(2*theta(x)),np.sin(2*theta(x))],[np.sin(2*theta(x)),-np.cos(2*theta(x))]])\n",
    "\n",
    "# QWP\n",
    "def QWP(x):\n",
    "    return np.array([[np.cos(theta(x))**2+1j*np.sin(theta(x))**2,(1-1j)*np.sin(theta(x))*np.cos(theta(x))],\n",
    "            [(1-1j)*np.sin(theta(x))*np.cos(theta(x)),np.sin(theta(x))**2+1j*np.cos(theta(x))**2]])\n",
    "\n",
    "#identity matrix\n",
    "idn = np.eye(2)\n",
    "\n",
    "#basic states\n",
    "h = np.array([[1],[0]])\n",
    "v = np.array([[0],[1]])\n",
    "hh = np.array([[1],[0],[0],[0]])\n",
    "vv = np.array([[0],[0],[0],[1]])\n",
    "hv = np.array([[0],[1],[0],[0]])\n",
    "vh = np.array([[0],[0],[1],[0]])\n",
    "phi_p = np.array([[1],[0],[0],[1]]/np.sqrt(2));\n",
    "phi_m = np.array([[1],[0],[0],[-1]]/np.sqrt(2));\n",
    "psi_p = np.array([[0],[1],[1],[0]]/np.sqrt(2));\n",
    "psi_m = np.array([[0],[1],[-1],[0]]/np.sqrt(2));\n",
    "#conjugate transpose\n",
    "h_ct = np.conj(h.T)\n",
    "v_ct = np.conj(v.T)\n",
    "\n",
    "#pauli matrices\n",
    "sx = np.array([[0, 1],[ 1, 0]])\n",
    "sy = np.array([[0, -1j],[1j, 0]])\n",
    "sz = np.array([[1, 0],[0, -1]])\n",
    "\n",
    "# Convert pure vector state into density matrix\n",
    "def dens(state):\n",
    "    return state@np.conj(state.T)\n",
    "\n",
    "# to find measurement settings given measurement operator sigma\n",
    "def meas(ang,sigma):\n",
    "    return QWP(ang[1])@HWP(ang[0])@sigma@np.conj((QWP(ang[1])@HWP(ang[0])).T)\n",
    "\n",
    "# Generate measurement operator for n qubits as tensor product of the same measurement sigma\n",
    "def meas_multi(n,sigma):\n",
    "    if n==1:\n",
    "        return sigma\n",
    "    else:\n",
    "        return np.kron(meas_multi(n-1,sigma),sigma)\n",
    "\n",
    "# GHZ^n state\n",
    "def GHZ(nqub=4):\n",
    "    ghz = np.zeros((2**nqub,1))\n",
    "    ghz[0],ghz[-1] = 1/np.sqrt(2),1/np.sqrt(2)\n",
    "    return ghz\n",
    "\n",
    "# Post-selection operation for GHZ^n states\n",
    "def Ups(nqub=4):\n",
    "    operator = np.zeros((2**nqub,2**nqub))\n",
    "    operator[0,0],operator[-1,-1] = 1,1\n",
    "    return operator\n",
    "\n",
    "# normalise quantum state\n",
    "def normalise(state=dens(phi_p)):\n",
    "    if np.shape(state)[0] == np.shape(state)[1]: #state is density matrix\n",
    "        return state/np.trace(state)\n",
    "    #if state is pure (vector)\n",
    "    elif np.shape(state)[0] != np.shape(state)[1] and np.shape(state)[1] == 1:\n",
    "        return state/np.linalg.norm(state)\n",
    "    else: print(\"Error: Input state doesn't look right!\")\n",
    "\n",
    "# mixed 2-qubit states (phi or psi, plus or minus)\n",
    "def mix_2q(p, state=dens(phi_p)):\n",
    "    if np.shape(state)[0] == np.shape(state)[1]: #state is density matrix\n",
    "        return p*state+(1-p)*np.eye(np.shape(state)[0])/np.shape(state)[0]\n",
    "    #if state is pure (vector)\n",
    "    elif np.shape(state)[0] != np.shape(state)[1] and np.shape(state)[1] == 1:\n",
    "        return p*dens(state)+(1-p)*np.eye(np.shape(state)[0])/np.shape(state)[0]\n",
    "    else: print(\"Error: Input state doesn't look right!\")\n",
    "\n",
    "# mixed product state of N phi^+ pairs, each pair with mixing parameter p\n",
    "def mix_pairs(N,p):\n",
    "    phiDM = mix_2q(p,phi_p)\n",
    "    if N==1:\n",
    "        return phiDM\n",
    "    else:\n",
    "        return normalise(np.kron(mix_pairs(N-1,p),phiDM))\n",
    "    \n",
    "# function to calculate expectation value from WP measurement settings\n",
    "#4-qubits\n",
    "def exp_4q(state, setts):\n",
    "    #setts should be a list [[HWP_A1,QWP_A1],[HWP_B1,QWP_B1],[HWP_A2,QWP_A2],[HWP_B2,QWP_B2]]\n",
    "    #check if state is dens matrix\n",
    "    if np.shape(state)[0] == np.shape(state)[1]: #state is density matrix\n",
    "        rho = state\n",
    "    elif np.shape(state)[0] != np.shape(state)[1] and np.shape(state)[1] == 1: #state is pure\n",
    "        rho = dens(state)\n",
    "    meas_op = np.kron(QWP(setts[0][1])@HWP(setts[0][0]),\n",
    "                      np.kron(QWP(setts[1][1])@HWP(setts[1][0]),\n",
    "                              np.kron(QWP(setts[2][1])@HWP(setts[2][0]),QWP(setts[3][1])@HWP(setts[3][0]))))\n",
    "    expectation = np.trace(meas_op@rho@meas_op.conj().T@meas_multi(4,sz))\n",
    "    \n",
    "    return expectation"
   ]
  },
  {
   "cell_type": "markdown",
   "metadata": {},
   "source": [
    "### Fidelity"
   ]
  },
  {
   "cell_type": "code",
   "execution_count": 3,
   "metadata": {},
   "outputs": [],
   "source": [
    "def fidelity(state1,state2):\n",
    "    if np.shape(state1)[1] == 1 and np.shape(state2)[1] == 1: #both pure\n",
    "        rho1 = dens(state1)\n",
    "        rho2 = dens(state2)\n",
    "    elif np.shape(state1)[1] == np.shape(state1)[0] and np.shape(state2)[1] == 1: #state 1 DM, 2 pure\n",
    "        rho1 = state1\n",
    "        rho2 = dens(state2)\n",
    "    elif np.shape(state2)[1] == np.shape(state2)[0] and np.shape(state1)[1] == 1: #state 2 DM, 1 pure\n",
    "        rho1 = dens(state1)\n",
    "        rho2 = state2\n",
    "    elif np.shape(state1)[1] == np.shape(state1)[0] and np.shape(state2)[1] == np.shape(state2)[0]: #state 1,2 DMs\n",
    "        rho1 = state1\n",
    "        rho2 = state2\n",
    "    else: \n",
    "        print(\"Error: Input state doesn't look right!\")\n",
    "        return\n",
    "        \n",
    "    val = (np.trace(sp.linalg.sqrtm(sp.linalg.sqrtm(rho1)@rho2@(sp.linalg.sqrtm(rho1)))))**2\n",
    "    val = np.real(val)\n",
    "\n",
    "    return val"
   ]
  },
  {
   "cell_type": "code",
   "execution_count": 32,
   "metadata": {},
   "outputs": [
    {
     "name": "stdout",
     "output_type": "stream",
     "text": [
      "0 [0.1767767]\n",
      "1 [4.16333634e-17]\n",
      "2 [4.16333634e-17]\n",
      "3 [0.1767767]\n",
      "4 [4.16333634e-17]\n",
      "5 [0.1767767]\n",
      "6 [0.1767767]\n",
      "7 [0.]\n",
      "8 [4.16333634e-17]\n",
      "9 [0.1767767]\n",
      "10 [0.1767767]\n",
      "11 [0.]\n",
      "12 [0.1767767]\n",
      "13 [0.]\n",
      "14 [0.]\n",
      "15 [0.1767767]\n",
      "16 [4.16333634e-17]\n",
      "17 [0.1767767]\n",
      "18 [0.1767767]\n",
      "19 [0.]\n",
      "20 [0.1767767]\n",
      "21 [0.]\n",
      "22 [0.]\n",
      "23 [0.1767767]\n",
      "24 [0.1767767]\n",
      "25 [0.]\n",
      "26 [0.]\n",
      "27 [0.1767767]\n",
      "28 [0.]\n",
      "29 [0.1767767]\n",
      "30 [0.1767767]\n",
      "31 [-4.16333634e-17]\n",
      "32 [4.16333634e-17]\n",
      "33 [0.1767767]\n",
      "34 [0.1767767]\n",
      "35 [0.]\n",
      "36 [0.1767767]\n",
      "37 [0.]\n",
      "38 [0.]\n",
      "39 [0.1767767]\n",
      "40 [0.1767767]\n",
      "41 [0.]\n",
      "42 [0.]\n",
      "43 [0.1767767]\n",
      "44 [0.]\n",
      "45 [0.1767767]\n",
      "46 [0.1767767]\n",
      "47 [-4.16333634e-17]\n",
      "48 [0.1767767]\n",
      "49 [0.]\n",
      "50 [0.]\n",
      "51 [0.1767767]\n",
      "52 [0.]\n",
      "53 [0.1767767]\n",
      "54 [0.1767767]\n",
      "55 [-4.16333634e-17]\n",
      "56 [0.]\n",
      "57 [0.1767767]\n",
      "58 [0.1767767]\n",
      "59 [-4.16333634e-17]\n",
      "60 [0.1767767]\n",
      "61 [-4.16333634e-17]\n",
      "62 [-4.16333634e-17]\n",
      "63 [0.1767767]\n"
     ]
    }
   ],
   "source": [
    "state = meas_multi(6,HWP(22.5))@GHZ(6)\n",
    "\n",
    "i=0\n",
    "for element in state:\n",
    "    print(i,element)\n",
    "    i += 1\n"
   ]
  },
  {
   "cell_type": "code",
   "execution_count": 58,
   "metadata": {},
   "outputs": [
    {
     "name": "stdout",
     "output_type": "stream",
     "text": [
      "(0.7071067811865472+0j)\n",
      "(0.9999999999999998+0j)\n"
     ]
    },
    {
     "data": {
      "text/plain": [
       "(-0.9999999999999998+0j)"
      ]
     },
     "execution_count": 58,
     "metadata": {},
     "output_type": "execute_result"
    }
   ],
   "source": [
    "np.trace(meas_multi(2,sy)@dens(phi_p))\n",
    "np.kron(QWP(45)@HWP(0),QWP(45)@HWP(0))@phi_p\n",
    "\n",
    "#CHSH\n",
    "state = phi_p\n",
    "np.trace(np.kron(sz,(sz+sx)/np.sqrt(2))@dens(state)-np.kron(sz,(-sz+sx)/np.sqrt(2))@dens(state)+\n",
    "         np.kron(sx,(sz+sx)/np.sqrt(2))@dens(state)+np.kron(sx,(-sz+sx)/np.sqrt(2))@dens(state))\n",
    "\n",
    "(np.trace(np.kron(QWP(0)@HWP(0),QWP(0)@HWP(11.25))@dens(state)@np.kron((QWP(0)@HWP(0)),(QWP(0)@HWP(11.25))).conj().T@dens(hh)-\n",
    "        np.kron(QWP(0)@HWP(0),QWP(0)@HWP(11.25))@dens(state)@np.kron((QWP(0)@HWP(0)),(QWP(0)@HWP(11.25))).conj().T@dens(hv)-\n",
    "        np.kron(QWP(0)@HWP(0),QWP(0)@HWP(11.25))@dens(state)@np.kron((QWP(0)@HWP(0)),(QWP(0)@HWP(11.25))).conj().T@dens(vh)+\n",
    "        np.kron(QWP(0)@HWP(0),QWP(0)@HWP(11.25))@dens(state)@np.kron((QWP(0)@HWP(0)),(QWP(0)@HWP(11.25))).conj().T@dens(vv))-\n",
    "np.trace(np.kron(QWP(0)@HWP(0),QWP(0)@HWP(33.75))@dens(state)@np.kron((QWP(0)@HWP(0)),(QWP(0)@HWP(33.75))).conj().T@dens(hh)-\n",
    "        np.kron(QWP(0)@HWP(0),QWP(0)@HWP(33.75))@dens(state)@np.kron((QWP(0)@HWP(0)),(QWP(0)@HWP(33.75))).conj().T@dens(hv)-\n",
    "        np.kron(QWP(0)@HWP(0),QWP(0)@HWP(33.75))@dens(state)@np.kron((QWP(0)@HWP(0)),(QWP(0)@HWP(33.75))).conj().T@dens(vh)+\n",
    "        np.kron(QWP(0)@HWP(0),QWP(0)@HWP(33.75))@dens(state)@np.kron((QWP(0)@HWP(0)),(QWP(0)@HWP(33.75))).conj().T@dens(vv))+\n",
    "np.trace(np.kron(QWP(0)@HWP(22.5),QWP(0)@HWP(11.25))@dens(state)@np.kron((QWP(0)@HWP(22.5)),(QWP(0)@HWP(11.25))).conj().T@dens(hh)-\n",
    "        np.kron(QWP(0)@HWP(22.5),QWP(0)@HWP(11.25))@dens(state)@np.kron((QWP(0)@HWP(22.5)),(QWP(0)@HWP(11.25))).conj().T@dens(hv)-\n",
    "        np.kron(QWP(0)@HWP(22.5),QWP(0)@HWP(11.25))@dens(state)@np.kron((QWP(0)@HWP(22.5)),(QWP(0)@HWP(11.25))).conj().T@dens(vh)+\n",
    "        np.kron(QWP(0)@HWP(22.5),QWP(0)@HWP(11.25))@dens(state)@np.kron((QWP(0)@HWP(22.5)),(QWP(0)@HWP(11.25))).conj().T@dens(vv))+\n",
    "np.trace(np.kron(QWP(0)@HWP(22.5),QWP(0)@HWP(33.75))@dens(state)@np.kron((QWP(0)@HWP(22.5)),(QWP(0)@HWP(33.75))).conj().T@dens(hh)-\n",
    "        np.kron(QWP(0)@HWP(22.5),QWP(0)@HWP(33.75))@dens(state)@np.kron((QWP(0)@HWP(22.5)),(QWP(0)@HWP(33.75))).conj().T@dens(hv)-\n",
    "        np.kron(QWP(0)@HWP(22.5),QWP(0)@HWP(33.75))@dens(state)@np.kron((QWP(0)@HWP(22.5)),(QWP(0)@HWP(33.75))).conj().T@dens(vh)+\n",
    "        np.kron(QWP(0)@HWP(22.5),QWP(0)@HWP(33.75))@dens(state)@np.kron((QWP(0)@HWP(22.5)),(QWP(0)@HWP(33.75))).conj().T@dens(vv)))\n",
    "\n",
    "print(np.trace(np.kron(sy,np.kron((sx-sy)/np.sqrt(2),np.kron((sx-sy)/np.sqrt(2),(sx+sy)/np.sqrt(2))))@dens(GHZ(4))))\n",
    "\n",
    "print(np.trace(np.kron(sy,np.kron(sy,np.kron(sy,sy)))@dens(GHZ(4))))\n",
    "\n",
    "np.trace(np.kron(-sy,np.kron(-sy,np.kron(-sy,sy)))@dens(GHZ(4)))"
   ]
  },
  {
   "cell_type": "code",
   "execution_count": 114,
   "metadata": {},
   "outputs": [
    {
     "name": "stdout",
     "output_type": "stream",
     "text": [
      "[[ 0.        +3.92523115e-17j]\n",
      " [-0.38268343-9.23879533e-01j]]\n",
      "[[0.        +0.j         0.70710678+0.70710678j]\n",
      " [0.70710678-0.70710678j 0.        +0.j        ]]\n",
      "[[0.        +0.j         0.70710678+0.70710678j]\n",
      " [0.70710678-0.70710678j 0.        +0.j        ]]\n"
     ]
    }
   ],
   "source": [
    "print(QWP(22.5)@HWP(-11.25)@(v+np.exp(-1j*np.pi/4)*h)/np.sqrt(2))\n",
    "QWP(22.5)@HWP(33.75)@(v+np.exp(1j*np.pi/4)*h)/np.sqrt(2)\n",
    "\n",
    "v1 = (v+np.exp(1j*np.pi/4)*h)/np.sqrt(2)\n",
    "v2 = (v-np.exp(1j*np.pi/4)*h)/np.sqrt(2)\n",
    "\n",
    "D = sz\n",
    "#print(np.shape(v1))\n",
    "e_mat1 = np.column_stack((v1,v2))\n",
    "\n",
    "mat1 = e_mat1@sz@np.linalg.inv(e_mat1)\n",
    "\n",
    "print(mat1)\n",
    "print((sx-sy)/np.sqrt(2))"
   ]
  },
  {
   "cell_type": "code",
   "execution_count": 55,
   "metadata": {},
   "outputs": [
    {
     "name": "stdout",
     "output_type": "stream",
     "text": [
      "[[ 0.5+0.5j]\n",
      " [-0.5+0.5j]]\n"
     ]
    },
    {
     "data": {
      "text/plain": [
       "0j"
      ]
     },
     "execution_count": 55,
     "metadata": {},
     "output_type": "execute_result"
    }
   ],
   "source": [
    "HWP(0)@(h+v)/np.sqrt(2)\n",
    "A = QWP(-45)@HWP(0)@(h)\n",
    "\n",
    "print(A)\n",
    "np.abs(A)\n",
    "\n",
    "np.trace(sz@dens(A)@dens(h))\n",
    "\n",
    "np.trace(sz@dens(A))"
   ]
  },
  {
   "cell_type": "code",
   "execution_count": 22,
   "metadata": {},
   "outputs": [
    {
     "data": {
      "text/plain": [
       "(-0.7071067811865477+0j)"
      ]
     },
     "execution_count": 22,
     "metadata": {},
     "output_type": "execute_result"
    }
   ],
   "source": [
    "settings = [[22.5,0],[33.75,22.5],[33.75,22.5],[33.75,22.5]]\n",
    "\n",
    "#settings = [[0,45],[0,45],[0,45],[0,-45]]\n",
    "\n",
    "#settings = [[-22.5,0],[22.5,0],[22.5,0],[22.5,0]]\n",
    "\n",
    "exp_4q(GHZ(4),settings)"
   ]
  }
 ],
 "metadata": {
  "kernelspec": {
   "display_name": "Python 3",
   "language": "python",
   "name": "python3"
  },
  "language_info": {
   "codemirror_mode": {
    "name": "ipython",
    "version": 3
   },
   "file_extension": ".py",
   "mimetype": "text/x-python",
   "name": "python",
   "nbconvert_exporter": "python",
   "pygments_lexer": "ipython3",
   "version": "3.7.5"
  }
 },
 "nbformat": 4,
 "nbformat_minor": 4
}
