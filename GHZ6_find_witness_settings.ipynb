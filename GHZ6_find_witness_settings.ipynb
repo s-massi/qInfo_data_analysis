{
 "cells": [
  {
   "cell_type": "markdown",
   "metadata": {},
   "source": [
    "# GHZ$_6$ - Fidelity witness\n",
    "## Find measurement settings\n",
    "### Let's define some functions"
   ]
  },
  {
   "cell_type": "code",
   "execution_count": 1,
   "metadata": {},
   "outputs": [],
   "source": [
    "import numpy as np\n",
    "\n",
    "#convert deg to rad\n",
    "def theta(x):\n",
    "    return x*np.pi/180\n",
    "\n",
    "# Lambda-Half wave plate\n",
    "def HWP(x):\n",
    "    return np.array([[np.cos(2*theta(x)),np.sin(2*theta(x))],[np.sin(2*theta(x)),-np.cos(2*theta(x))]])\n",
    "\n",
    "# QWP\n",
    "def QWP(x):\n",
    "    return np.array([[np.cos(theta(x))**2+1j*np.sin(theta(x))**2,(1-1j)*np.sin(theta(x))*np.cos(theta(x))],\n",
    "            [(1-1j)*np.sin(theta(x))*np.cos(theta(x)),np.sin(theta(x))**2+1j*np.cos(theta(x))**2]])\n",
    "\n",
    "#identity matrix\n",
    "idn = np.eye(2)\n",
    "\n",
    "#basic states\n",
    "h = np.array([[1],[0]])\n",
    "v = np.array([[0],[1]])\n",
    "phi_p = np.array([[1],[0],[0],[1]]/np.sqrt(2));\n",
    "phi_m = np.array([[1],[0],[0],[-1]]/np.sqrt(2));\n",
    "psi_p = np.array([[0],[1],[1],[0]]/np.sqrt(2));\n",
    "psi_m = np.array([[0],[1],[-1],[0]]/np.sqrt(2));\n",
    "#conjugate transpose\n",
    "h_ct = np.conj(h.T)\n",
    "v_ct = np.conj(v.T)\n",
    "\n",
    "#pauli matrices\n",
    "sx = np.array([[0, 1],[ 1, 0]])\n",
    "sy = np.array([[0, -1j],[1j, 0]])\n",
    "sz = np.array([[1, 0],[0, -1]])\n",
    "\n",
    "# Convert pure vector state into density matrix\n",
    "def dens(state):\n",
    "    return state@np.conj(state.T)\n",
    "\n",
    "def meas(ang,sigma):\n",
    "    return QWP(ang[1])@HWP(ang[0])@sigma@np.conj((QWP(ang[1])@HWP(ang[0])).T)"
   ]
  },
  {
   "cell_type": "markdown",
   "metadata": {},
   "source": [
    "## Find setting 1"
   ]
  },
  {
   "cell_type": "code",
   "execution_count": 5,
   "metadata": {},
   "outputs": [
    {
     "name": "stdout",
     "output_type": "stream",
     "text": [
      "Successful minimisations: 394\n",
      "Success rate of minimisation procedure: 79%\n"
     ]
    }
   ],
   "source": [
    "from scipy.optimize import fsolve,leastsq,minimize,basinhopping\n",
    "from random import seed,random\n",
    "\n",
    "sigma_1 = np.cos(0*np.pi/6)*sx + np.sin(0*np.pi/6)*sy\n",
    "\n",
    "# function to minimise\n",
    "def fC(x0):\n",
    "   # x,y = x0\n",
    "    matr = meas([x0[0],x0[1]],sigma_1)-sz\n",
    "    return np.sum(np.abs(np.real(matr)))+np.sum(np.abs(np.imag(matr)))\n",
    "\n",
    "#print(fC([11.25,-22.5]))\n",
    "\n",
    "# create random list of initial guesses for angles\n",
    "min_ang = -10\n",
    "max_ang = 10\n",
    "# function to scale random number in given range\n",
    "def scl_rnd(value,min_ang,max_ang):\n",
    "    return min_ang + (value * (max_ang - min_ang))\n",
    "\n",
    "ini = [] # will hold all initial guesses\n",
    "\n",
    "# seed random number generator\n",
    "seed(1)\n",
    "\n",
    "# how many minimisations should we run?\n",
    "runs = 500\n",
    "for i in range(runs):\n",
    "    values = [scl_rnd(random(),-10,10),scl_rnd(random(),-10,10)]\n",
    "    ini.append(values)\n",
    "    \n",
    "angles_1 = [] # will contain successfull optimisation results\n",
    "for init in ini:\n",
    "    x1 = minimize(fC,init,bounds=((-45,45),(-45,45)))\n",
    "    if x1.success and x1.fun<.001:\n",
    "        angles_1.append(x1.x)\n",
    "        \n",
    "print('Successful minimisations: {}'.format(np.shape(angles_1)[0]))\n",
    "print('Success rate of minimisation procedure: {:2.0f}%'.format(np.shape(angles_1)[0]/runs*100))\n",
    "#test = meas([-11.25,22.5],sigma_1)-sz\n",
    "#np.sum(np.abs(np.real(test)))+np.sum(np.abs(np.imag(test)))"
   ]
  },
  {
   "cell_type": "markdown",
   "metadata": {},
   "source": [
    "### Plot results for angles_1"
   ]
  },
  {
   "cell_type": "code",
   "execution_count": 6,
   "metadata": {},
   "outputs": [
    {
     "name": "stdout",
     "output_type": "stream",
     "text": [
      "HWP: 22.4999 ± 0.0008\n",
      "QWP: -0.0001 ± 0.0012\n"
     ]
    },
    {
     "data": {
      "image/png": "[encoded data removed]",
      "text/plain": [
       "<Figure size 432x288 with 2 Axes>"
      ]
     },
     "metadata": {
      "needs_background": "light"
     },
     "output_type": "display_data"
    }
   ],
   "source": [
    "%matplotlib inline\n",
    "import matplotlib.pyplot as plt\n",
    "from statistics import mean,stdev\n",
    "\n",
    "# separate lists\n",
    "hwp_list = [x[0] for x in angles_1]\n",
    "qwp_list = [x[1] for x in angles_1]\n",
    "\n",
    "# plot\n",
    "fig, ax = plt.subplots(nrows=1, ncols=2)\n",
    "\n",
    "ax[0].hist(hwp_list)\n",
    "ax[1].hist(qwp_list)\n",
    "\n",
    "fig.tight_layout()\n",
    "#fig.show()\n",
    "\n",
    "print('HWP: {0:.4f} ± {1:.4f}'.format(mean(hwp_list),stdev(hwp_list)))\n",
    "print('QWP: {0:.4f} ± {1:.4f}'.format(mean(qwp_list),stdev(qwp_list)))"
   ]
  },
  {
   "cell_type": "markdown",
   "metadata": {},
   "source": [
    "## Find setting 2"
   ]
  },
  {
   "cell_type": "code",
   "execution_count": 8,
   "metadata": {},
   "outputs": [
    {
     "name": "stdout",
     "output_type": "stream",
     "text": [
      "Successful minimisations: 188\n",
      "Success rate of minimisation procedure: 63%\n"
     ]
    }
   ],
   "source": [
    "from scipy.optimize import fsolve,leastsq,minimize,basinhopping\n",
    "from random import seed,random\n",
    "\n",
    "sigma_2 = np.cos(1*np.pi/6)*sx + np.sin(1*np.pi/6)*sy\n",
    "\n",
    "# function to minimise\n",
    "def fC(x0):\n",
    "   # x,y = x0\n",
    "    matr = meas([x0[0],x0[1]],sigma_2)-sz\n",
    "    return np.sum(np.abs(np.real(matr)))+np.sum(np.abs(np.imag(matr)))\n",
    "\n",
    "#print(fC([11.25,-22.5]))\n",
    "\n",
    "# create random list of initial guesses for angles\n",
    "min_ang = -10\n",
    "max_ang = 10\n",
    "# function to scale random number in given range\n",
    "def scl_rnd(value,min_ang,max_ang):\n",
    "    return min_ang + (value * (max_ang - min_ang))\n",
    "\n",
    "ini = [] # will hold all initial guesses\n",
    "\n",
    "# seed random number generator\n",
    "seed(1)\n",
    "\n",
    "# how many minimisations should we run?\n",
    "runs = 300\n",
    "for i in range(runs):\n",
    "    values = [scl_rnd(random(),-10,10),scl_rnd(random(),-10,10)]\n",
    "    ini.append(values)\n",
    "    \n",
    "angles_2 = [] # will contain successfull optimisation results\n",
    "for init in ini:\n",
    "    x1 = minimize(fC,init,bounds=((-45,45),(-45,45)))\n",
    "    if x1.success and x1.fun<.001:\n",
    "        angles_2.append(x1.x)\n",
    "        \n",
    "print('Successful minimisations: {}'.format(np.shape(angles_2)[0]))\n",
    "print('Success rate of minimisation procedure: {:2.0f}%'.format(np.shape(angles_2)[0]/runs*100))\n",
    "#test = meas([-11.25,22.5],sigma_1)-sz\n",
    "#np.sum(np.abs(np.real(test)))+np.sum(np.abs(np.imag(test)))"
   ]
  },
  {
   "cell_type": "markdown",
   "metadata": {},
   "source": [
    "### Plot results for angles_2"
   ]
  },
  {
   "cell_type": "code",
   "execution_count": 9,
   "metadata": {},
   "outputs": [
    {
     "name": "stdout",
     "output_type": "stream",
     "text": [
      "HWP: 15.0001 ± 0.0010\n",
      "QWP: -14.9999 ± 0.0011\n"
     ]
    },
    {
     "data": {
      "image/png": "[encoded data removed]",
      "text/plain": [
       "<Figure size 432x288 with 2 Axes>"
      ]
     },
     "metadata": {
      "needs_background": "light"
     },
     "output_type": "display_data"
    }
   ],
   "source": [
    "%matplotlib inline\n",
    "import matplotlib.pyplot as plt\n",
    "from statistics import mean,stdev\n",
    "\n",
    "# separate lists\n",
    "hwp_list = [x[0] for x in angles_2]\n",
    "qwp_list = [x[1] for x in angles_2]\n",
    "\n",
    "# plot\n",
    "fig, ax = plt.subplots(nrows=1, ncols=2)\n",
    "\n",
    "ax[0].hist(hwp_list)\n",
    "ax[1].hist(qwp_list)\n",
    "\n",
    "fig.tight_layout()\n",
    "#fig.show()\n",
    "\n",
    "print('HWP: {0:.4f} ± {1:.4f}'.format(mean(hwp_list),stdev(hwp_list)))\n",
    "print('QWP: {0:.4f} ± {1:.4f}'.format(mean(qwp_list),stdev(qwp_list)))"
   ]
  },
  {
   "cell_type": "markdown",
   "metadata": {},
   "source": [
    "## Find setting 3"
   ]
  },
  {
   "cell_type": "code",
   "execution_count": 11,
   "metadata": {},
   "outputs": [
    {
     "name": "stdout",
     "output_type": "stream",
     "text": [
      "Successful minimisations: 54\n",
      "Success rate of minimisation procedure: 54%\n"
     ]
    }
   ],
   "source": [
    "from scipy.optimize import fsolve,leastsq,minimize,basinhopping\n",
    "from random import seed,random\n",
    "\n",
    "sigma_3 = np.cos(2*np.pi/6)*sx + np.sin(2*np.pi/6)*sy\n",
    "\n",
    "# function to minimise\n",
    "def fC(x0):\n",
    "   # x,y = x0\n",
    "    matr = meas([x0[0],x0[1]],sigma_3)-sz\n",
    "    return np.sum(np.abs(np.real(matr)))+np.sum(np.abs(np.imag(matr)))\n",
    "\n",
    "#print(fC([11.25,-22.5]))\n",
    "\n",
    "# create random list of initial guesses for angles\n",
    "min_ang = -10\n",
    "max_ang = 10\n",
    "# function to scale random number in given range\n",
    "def scl_rnd(value,min_ang,max_ang):\n",
    "    return min_ang + (value * (max_ang - min_ang))\n",
    "\n",
    "ini = [] # will hold all initial guesses\n",
    "\n",
    "# seed random number generator\n",
    "seed(1)\n",
    "\n",
    "# how many minimisations should we run?\n",
    "runs = 100\n",
    "for i in range(runs):\n",
    "    values = [scl_rnd(random(),-10,10),scl_rnd(random(),-10,10)]\n",
    "    ini.append(values)\n",
    "    \n",
    "angles_3 = [] # will contain successfull optimisation results\n",
    "for init in ini:\n",
    "    x1 = minimize(fC,init,bounds=((-45,45),(-45,45)))\n",
    "    if x1.success and x1.fun<.001:\n",
    "        angles_3.append(x1.x)\n",
    "        \n",
    "print('Successful minimisations: {}'.format(np.shape(angles_3)[0]))\n",
    "print('Success rate of minimisation procedure: {:2.0f}%'.format(np.shape(angles_3)[0]/runs*100))\n",
    "#test = meas([-11.25,22.5],sigma_1)-sz\n",
    "#np.sum(np.abs(np.real(test)))+np.sum(np.abs(np.imag(test)))"
   ]
  },
  {
   "cell_type": "markdown",
   "metadata": {},
   "source": [
    "### Plot results for angles_3"
   ]
  },
  {
   "cell_type": "code",
   "execution_count": 12,
   "metadata": {},
   "outputs": [
    {
     "name": "stdout",
     "output_type": "stream",
     "text": [
      "HWP: 7.4999 ± 0.0004\n",
      "QWP: -30.0001 ± 0.0004\n"
     ]
    },
    {
     "data": {
      "image/png": "[encoded data removed]",
      "text/plain": [
       "<Figure size 432x288 with 2 Axes>"
      ]
     },
     "metadata": {
      "needs_background": "light"
     },
     "output_type": "display_data"
    }
   ],
   "source": [
    "%matplotlib inline\n",
    "import matplotlib.pyplot as plt\n",
    "from statistics import mean,stdev\n",
    "\n",
    "# separate lists\n",
    "hwp_list = [x[0] for x in angles_3]\n",
    "qwp_list = [x[1] for x in angles_3]\n",
    "\n",
    "# plot\n",
    "fig, ax = plt.subplots(nrows=1, ncols=2)\n",
    "\n",
    "ax[0].hist(hwp_list)\n",
    "ax[1].hist(qwp_list)\n",
    "\n",
    "fig.tight_layout()\n",
    "#fig.show()\n",
    "\n",
    "print('HWP: {0:.4f} ± {1:.4f}'.format(mean(hwp_list),stdev(hwp_list)))\n",
    "print('QWP: {0:.4f} ± {1:.4f}'.format(mean(qwp_list),stdev(qwp_list)))\n",
    "#meas([-4,-45],sigma_3)-sz"
   ]
  },
  {
   "cell_type": "markdown",
   "metadata": {},
   "source": [
    "## Find setting 4"
   ]
  },
  {
   "cell_type": "code",
   "execution_count": 14,
   "metadata": {},
   "outputs": [
    {
     "name": "stdout",
     "output_type": "stream",
     "text": [
      "Successful minimisations: 300\n",
      "Success rate of minimisation procedure: 100%\n"
     ]
    }
   ],
   "source": [
    "from scipy.optimize import fsolve,leastsq,minimize,basinhopping\n",
    "from random import seed,random\n",
    "\n",
    "sigma_4 = np.cos(3*np.pi/6)*sx + np.sin(3*np.pi/6)*sy\n",
    "\n",
    "# function to minimise\n",
    "def fC(x0):\n",
    "   # x,y = x0\n",
    "    matr = meas([x0[0],x0[1]],sigma_4)-sz\n",
    "    return np.sum(np.abs(np.real(matr)))+np.sum(np.abs(np.imag(matr)))\n",
    "\n",
    "#print(fC([11.25,-22.5]))\n",
    "\n",
    "# create random list of initial guesses for angles\n",
    "min_ang = -10\n",
    "max_ang = 10\n",
    "# function to scale random number in given range\n",
    "def scl_rnd(value,min_ang,max_ang):\n",
    "    return min_ang + (value * (max_ang - min_ang))\n",
    "\n",
    "ini = [] # will hold all initial guesses\n",
    "\n",
    "# seed random number generator\n",
    "seed(1)\n",
    "\n",
    "# how many minimisations should we run?\n",
    "runs = 300\n",
    "for i in range(runs):\n",
    "    values = [scl_rnd(random(),-10,10),scl_rnd(random(),-10,10)]\n",
    "    ini.append(values)\n",
    "    \n",
    "angles_4 = [] # will contain successfull optimisation results\n",
    "for init in ini:\n",
    "    x1 = minimize(fC,init,bounds=((-45,45),(-45,45)))\n",
    "    if x1.success and x1.fun<.001:\n",
    "        angles_4.append(x1.x)\n",
    "        \n",
    "print('Successful minimisations: {}'.format(np.shape(angles_4)[0]))\n",
    "print('Success rate of minimisation procedure: {:2.0f}%'.format(np.shape(angles_4)[0]/runs*100))\n",
    "#test = meas([-11.25,22.5],sigma_1)-sz\n",
    "#np.sum(np.abs(np.real(test)))+np.sum(np.abs(np.imag(test)))"
   ]
  },
  {
   "cell_type": "markdown",
   "metadata": {},
   "source": [
    "### Plot results for angles_4"
   ]
  },
  {
   "cell_type": "code",
   "execution_count": 15,
   "metadata": {},
   "outputs": [
    {
     "name": "stdout",
     "output_type": "stream",
     "text": [
      "HWP: 0.2023 ± 5.8935\n",
      "QWP: -45.0000 ± 0.0000\n"
     ]
    },
    {
     "data": {
      "image/png": "[encoded data removed]",
      "text/plain": [
       "<Figure size 432x288 with 2 Axes>"
      ]
     },
     "metadata": {
      "needs_background": "light"
     },
     "output_type": "display_data"
    }
   ],
   "source": [
    "%matplotlib inline\n",
    "import matplotlib.pyplot as plt\n",
    "from statistics import mean,stdev\n",
    "\n",
    "# separate lists\n",
    "hwp_list = [x[0] for x in angles_4]\n",
    "qwp_list = [x[1] for x in angles_4]\n",
    "\n",
    "# plot\n",
    "fig, ax = plt.subplots(nrows=1, ncols=2)\n",
    "\n",
    "ax[0].hist(hwp_list)\n",
    "ax[1].hist(qwp_list)\n",
    "\n",
    "fig.tight_layout()\n",
    "#fig.show()\n",
    "\n",
    "print('HWP: {0:.4f} ± {1:.4f}'.format(mean(hwp_list),stdev(hwp_list)))\n",
    "print('QWP: {0:.4f} ± {1:.4f}'.format(mean(qwp_list),stdev(qwp_list)))"
   ]
  },
  {
   "cell_type": "markdown",
   "metadata": {},
   "source": [
    "## Find setting 5"
   ]
  },
  {
   "cell_type": "code",
   "execution_count": 16,
   "metadata": {},
   "outputs": [
    {
     "name": "stdout",
     "output_type": "stream",
     "text": [
      "Successful minimisations: 194\n",
      "Success rate of minimisation procedure: 65%\n"
     ]
    }
   ],
   "source": [
    "from scipy.optimize import fsolve,leastsq,minimize,basinhopping\n",
    "from random import seed,random\n",
    "\n",
    "sigma_5 = np.cos(4*np.pi/6)*sx + np.sin(4*np.pi/6)*sy\n",
    "\n",
    "# function to minimise\n",
    "def fC(x0):\n",
    "   # x,y = x0\n",
    "    matr = meas([x0[0],x0[1]],sigma_5)-sz\n",
    "    return np.sum(np.abs(np.real(matr)))+np.sum(np.abs(np.imag(matr)))\n",
    "\n",
    "#print(fC([11.25,-22.5]))\n",
    "\n",
    "# create random list of initial guesses for angles\n",
    "min_ang = -10\n",
    "max_ang = 10\n",
    "# function to scale random number in given range\n",
    "def scl_rnd(value,min_ang,max_ang):\n",
    "    return min_ang + (value * (max_ang - min_ang))\n",
    "\n",
    "ini = [] # will hold all initial guesses\n",
    "\n",
    "# seed random number generator\n",
    "seed(1)\n",
    "\n",
    "# how many minimisations should we run?\n",
    "runs = 300\n",
    "for i in range(runs):\n",
    "    values = [scl_rnd(random(),-10,10),scl_rnd(random(),-10,10)]\n",
    "    ini.append(values)\n",
    "    \n",
    "angles_5 = [] # will contain successfull optimisation results\n",
    "for init in ini:\n",
    "    x1 = minimize(fC,init,bounds=((-45,45),(-45,45)))\n",
    "    if x1.success and x1.fun<.001:\n",
    "        angles_5.append(x1.x)\n",
    "        \n",
    "print('Successful minimisations: {}'.format(np.shape(angles_5)[0]))\n",
    "print('Success rate of minimisation procedure: {:2.0f}%'.format(np.shape(angles_5)[0]/runs*100))\n",
    "#test = meas([-11.25,22.5],sigma_1)-sz\n",
    "#np.sum(np.abs(np.real(test)))+np.sum(np.abs(np.imag(test)))"
   ]
  },
  {
   "cell_type": "markdown",
   "metadata": {},
   "source": [
    "### Plot results for angles_5"
   ]
  },
  {
   "cell_type": "code",
   "execution_count": 17,
   "metadata": {},
   "outputs": [
    {
     "name": "stdout",
     "output_type": "stream",
     "text": [
      "HWP: -37.4996 ± 0.0024\n",
      "QWP: -29.9999 ± 0.0009\n"
     ]
    },
    {
     "data": {
      "image/png": "[encoded data removed]",
      "text/plain": [
       "<Figure size 432x288 with 2 Axes>"
      ]
     },
     "metadata": {
      "needs_background": "light"
     },
     "output_type": "display_data"
    }
   ],
   "source": [
    "%matplotlib inline\n",
    "import matplotlib.pyplot as plt\n",
    "from statistics import mean,stdev\n",
    "\n",
    "# separate lists\n",
    "hwp_list = [x[0] for x in angles_5]\n",
    "qwp_list = [x[1] for x in angles_5]\n",
    "\n",
    "# plot\n",
    "fig, ax = plt.subplots(nrows=1, ncols=2)\n",
    "\n",
    "ax[0].hist(hwp_list)\n",
    "ax[1].hist(qwp_list)\n",
    "\n",
    "fig.tight_layout()\n",
    "#fig.show()\n",
    "\n",
    "print('HWP: {0:.4f} ± {1:.4f}'.format(mean(hwp_list),stdev(hwp_list)))\n",
    "print('QWP: {0:.4f} ± {1:.4f}'.format(mean(qwp_list),stdev(qwp_list)))"
   ]
  },
  {
   "cell_type": "markdown",
   "metadata": {},
   "source": [
    "## Find setting 6"
   ]
  },
  {
   "cell_type": "code",
   "execution_count": 18,
   "metadata": {},
   "outputs": [
    {
     "name": "stdout",
     "output_type": "stream",
     "text": [
      "Successful minimisations: 225\n",
      "Success rate of minimisation procedure: 75%\n"
     ]
    }
   ],
   "source": [
    "from scipy.optimize import fsolve,leastsq,minimize,basinhopping\n",
    "from random import seed,random\n",
    "\n",
    "sigma_6 = np.cos(5*np.pi/6)*sx + np.sin(5*np.pi/6)*sy\n",
    "\n",
    "# function to minimise\n",
    "def fC(x0):\n",
    "   # x,y = x0\n",
    "    matr = meas([x0[0],x0[1]],sigma_6)-sz\n",
    "    return np.sum(np.abs(np.real(matr)))+np.sum(np.abs(np.imag(matr)))\n",
    "\n",
    "#print(fC([11.25,-22.5]))\n",
    "\n",
    "# create random list of initial guesses for angles\n",
    "min_ang = -10\n",
    "max_ang = 10\n",
    "# function to scale random number in given range\n",
    "def scl_rnd(value,min_ang,max_ang):\n",
    "    return min_ang + (value * (max_ang - min_ang))\n",
    "\n",
    "ini = [] # will hold all initial guesses\n",
    "\n",
    "# seed random number generator\n",
    "seed(1)\n",
    "\n",
    "# how many minimisations should we run?\n",
    "runs = 300\n",
    "for i in range(runs):\n",
    "    values = [scl_rnd(random(),-10,10),scl_rnd(random(),-10,10)]\n",
    "    ini.append(values)\n",
    "    \n",
    "angles_6 = [] # will contain successfull optimisation results\n",
    "for init in ini:\n",
    "    x1 = minimize(fC,init,bounds=((-45,45),(-45,45)))\n",
    "    if x1.success and x1.fun<.001:\n",
    "        angles_6.append(x1.x)\n",
    "        \n",
    "print('Successful minimisations: {}'.format(np.shape(angles_6)[0]))\n",
    "print('Success rate of minimisation procedure: {:2.0f}%'.format(np.shape(angles_6)[0]/runs*100))\n",
    "#test = meas([-11.25,22.5],sigma_1)-sz\n",
    "#np.sum(np.abs(np.real(test)))+np.sum(np.abs(np.imag(test)))"
   ]
  },
  {
   "cell_type": "markdown",
   "metadata": {},
   "source": [
    "### Plot results for angles_6"
   ]
  },
  {
   "cell_type": "code",
   "execution_count": 19,
   "metadata": {},
   "outputs": [
    {
     "name": "stdout",
     "output_type": "stream",
     "text": [
      "HWP: -29.9998 ± 0.0010\n",
      "QWP: -14.9998 ± 0.0013\n"
     ]
    },
    {
     "data": {
      "image/png": "[encoded data removed]",
      "text/plain": [
       "<Figure size 432x288 with 2 Axes>"
      ]
     },
     "metadata": {
      "needs_background": "light"
     },
     "output_type": "display_data"
    }
   ],
   "source": [
    "%matplotlib inline\n",
    "import matplotlib.pyplot as plt\n",
    "from statistics import mean,stdev\n",
    "\n",
    "# separate lists\n",
    "hwp_list = [x[0] for x in angles_6]\n",
    "qwp_list = [x[1] for x in angles_6]\n",
    "\n",
    "# plot\n",
    "fig, ax = plt.subplots(nrows=1, ncols=2)\n",
    "\n",
    "ax[0].hist(hwp_list)\n",
    "ax[1].hist(qwp_list)\n",
    "\n",
    "fig.tight_layout()\n",
    "#fig.show()\n",
    "\n",
    "print('HWP: {0:.4f} ± {1:.4f}'.format(mean(hwp_list),stdev(hwp_list)))\n",
    "print('QWP: {0:.4f} ± {1:.4f}'.format(mean(qwp_list),stdev(qwp_list)))"
   ]
  }
 ],
 "metadata": {
  "kernelspec": {
   "display_name": "Python 3",
   "language": "python",
   "name": "python3"
  },
  "language_info": {
   "codemirror_mode": {
    "name": "ipython",
    "version": 3
   },
   "file_extension": ".py",
   "mimetype": "text/x-python",
   "name": "python",
   "nbconvert_exporter": "python",
   "pygments_lexer": "ipython3",
   "version": "3.7.5"
  }
 },
 "nbformat": 4,
 "nbformat_minor": 4
}
